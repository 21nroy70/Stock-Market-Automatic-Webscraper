{
 "cells": [
  {
   "cell_type": "markdown",
   "id": "0169826a",
   "metadata": {},
   "source": [
    "## Using Yahoo Finance to find stock market data -> Apple Stock"
   ]
  },
  {
   "cell_type": "markdown",
   "id": "65562976",
   "metadata": {},
   "source": [
    "## The stock market runs from Monday - Friday, 9 A.M - 4 P.M."
   ]
  },
  {
   "cell_type": "code",
   "execution_count": 1,
   "id": "9578f557",
   "metadata": {},
   "outputs": [],
   "source": [
    "from bs4 import BeautifulSoup #this will be the core to importing and webscraping\n",
    "import requests\n",
    "import time\n",
    "import datetime\n",
    "from datetime import datetime\n",
    "from dateutil import rrule\n",
    "from dateutil.relativedelta import relativedelta\n",
    "import csv\n",
    "import pandas as pd # -> library to turn our data into a data frame\n",
    "\n",
    "import smtplib"
   ]
  },
  {
   "cell_type": "code",
   "execution_count": 2,
   "id": "46fc7912",
   "metadata": {},
   "outputs": [],
   "source": [
    "import datetime\n",
    "weekday = datetime.datetime.today().weekday()\n",
    "#print(weekday)"
   ]
  },
  {
   "cell_type": "code",
   "execution_count": 3,
   "id": "16227ab2",
   "metadata": {},
   "outputs": [],
   "source": [
    "dailyPrice = None\n",
    "change = None\n",
    "headers = [\"Stock Name\", \"Stock Price\", \"Net Change\", \"Time\"]\n",
    "data = None #list data type\n",
    "\n",
    "with open('StockMarketData.csv', 'a+', newline='', encoding='UTF8') as f:\n",
    "        writer = csv.writer(f)\n",
    "        writer.writerow(headers)"
   ]
  },
  {
   "cell_type": "code",
   "execution_count": 4,
   "id": "5df45743",
   "metadata": {},
   "outputs": [],
   "source": [
    "import time\n",
    "from datetime import datetime, timedelta\n",
    "\n",
    "currTime = datetime.now()\n",
    "\n",
    "timeSort = currTime.strftime(\"%H:%M:%S\")\n",
    "#print(type(timeSort))\n",
    "#print(currTime.hour)"
   ]
  },
  {
   "cell_type": "code",
   "execution_count": 5,
   "id": "068d9ffc",
   "metadata": {},
   "outputs": [],
   "source": [
    "def price_check():\n",
    "    url = 'https://finance.yahoo.com/quote/AAPL?p=AAPL'\n",
    "    header = {\"User-Agent\": \"Mozilla/5.0 (Macintosh; Intel Mac OS X 10_15_7) AppleWebKit/537.36 (KHTML, like Gecko) Chrome/100.0.4896.127 Safari/537.36\", \"Accept-Encoding\":\"gzip, deflate\", \"Accept\":\"text/html,application/xhtml+xml,application/xml;q=0.9,*/*;q=0.8\", \"DNT\":\"1\",\"Connection\":\"close\", \"Upgrade-Insecure-Requests\":\"1\"}\n",
    "\n",
    "    page = requests.get(url, headers = header)\n",
    "\n",
    "    soup1 = BeautifulSoup(page.content, \"html.parser\")\n",
    "    soup2 = BeautifulSoup(soup1.prettify(), \"html.parser\") #make this much Simpler and easier to parse\n",
    "    soup2.text.strip()\n",
    "    info = soup2.find('div',{'class': 'D(ib) Mend(20px)' })\n",
    "    dailyPrice = info.find('fin-streamer').text.strip()\n",
    "    print(\"Price of stock today: \" + dailyPrice)\n",
    "    #above, I have gathered the information about the Apple stock and scraped the price of the stock and changes \n",
    "    #  -> which will change daily because of the stock market changes\n",
    "    \n",
    "    change = info.find('span').text.strip() #finds the change of the price daily from yesterday's to today's prices\n",
    "    print(\"change in price: \" + change)\n",
    "    \n",
    "    currTime = datetime.now()\n",
    "    timeSort = currTime.strftime(\"%H:%M:%S\")\n",
    "    print(\"Time: \" + timeSort)\n",
    "\n",
    "    data = [\"AAPL\", dailyPrice, change, timeSort] \n",
    "    with open('StockMarketData.csv', 'a+', newline='', encoding='UTF8') as f:\n",
    "        writer = csv.writer(f)\n",
    "        writer.writerow(data) \n",
    "\n",
    "        "
   ]
  },
  {
   "cell_type": "markdown",
   "id": "57ad34b2",
   "metadata": {},
   "source": [
    "#####\n",
    "<div class=\"D(ib) Mend(20px)\">\n",
    "<fin-streamer active=\"\" class=\"Fw(b) Fz(36px) Mb(-4px) D(ib)\" data-field=\"regularMarketPrice\" data-pricehint=\"2\" data-symbol=\"AAPL\" data-test=\"qsp-price\" data-trend=\"none\" value=\"155.81\">\n",
    "                  155.81\n",
    "                 </fin-streamer>\n",
    "<fin-streamer active=\"\" class=\"Fw(500) Pstart(8px) Fz(24px)\" data-field=\"regularMarketChange\" data-pricehint=\"2\" data-symbol=\"AAPL\" data-test=\"qsp-price-change\" data-trend=\"txt\" value=\"-2.1500092\">\n",
    "<span class=\"C($negativeColor)\">\n",
    "                   -2.15\n",
    "                  </span>\n",
    "</fin-streamer>\n",
    "<fin-streamer active=\"\" class=\"Fw(500) Pstart(8px) Fz(24px)\" data-field=\"regularMarketChangePercent\" data-pricehint=\"2\" data-symbol=\"AAPL\" data-template=\"({fmt})\" data-trend=\"txt\" value=\"-0.013611097\">\n",
    "<span class=\"C($negativeColor)\">\n",
    "                   (-1.36%)\n",
    "                  </span>\n",
    "</fin-streamer>\n",
    "<fin-streamer active=\"true\" changeev=\"regularTimeChange\" class=\"D(n)\" data-field=\"regularMarketTime\" data-symbol=\"AAPL\" data-trend=\"none\" value=\"\">\n",
    "</fin-streamer>\n",
    "<fin-streamer active=\"true\" changeev=\"marketState\" class=\"D(n)\" data-field=\"marketState\" data-symbol=\"AAPL\" data-trend=\"none\" value=\"\">\n",
    "</fin-streamer>\n",
    "<div class=\"C($tertiaryColor) D(b) Fz(12px) Fw(n) Mstart(0)--mobpsm Mt(6px)--mobpsm Whs(n)\" id=\"quote-market-notice\">\n",
    "<span>\n",
    "                   At close:  04:00PM EDT\n",
    "                  </span>\n",
    "                  "
   ]
  },
  {
   "cell_type": "code",
   "execution_count": null,
   "id": "917138a7",
   "metadata": {},
   "outputs": [
    {
     "name": "stdout",
     "output_type": "stream",
     "text": [
      "Price of stock today: 154.49\n",
      "change in price: -1.32\n",
      "Time: 14:05:55\n"
     ]
    }
   ],
   "source": [
    "\n",
    "while(currTime.hour >= 9.5 and currTime.hour < 16 and weekday <= 4): #only run 9:30 - 4 Mon. - Fri.\n",
    "    price_check()    \n",
    "    time.sleep(300) #will run after (300) seconds -> 5 Minutes\n",
    "    "
   ]
  },
  {
   "cell_type": "markdown",
   "id": "02771516",
   "metadata": {},
   "source": [
    "### Producing graphs from data"
   ]
  },
  {
   "cell_type": "code",
   "execution_count": 9,
   "id": "442d94ea",
   "metadata": {},
   "outputs": [
    {
     "name": "stdout",
     "output_type": "stream",
     "text": [
      "  Stock Name  Stock Price  Net Change      Time\n",
      "0       AAPL       155.81       -2.15  01:42:37\n"
     ]
    },
    {
     "data": {
      "text/plain": [
       "<AxesSubplot:xlabel='Time', ylabel='Stock Price'>"
      ]
     },
     "execution_count": 9,
     "metadata": {},
     "output_type": "execute_result"
    },
    {
     "data": {
      "image/png": "[encoded data removed]",
      "text/plain": [
       "<Figure size 432x288 with 1 Axes>"
      ]
     },
     "metadata": {
      "needs_background": "light"
     },
     "output_type": "display_data"
    }
   ],
   "source": [
    "df = pd.read_csv(\"/Users/nikhilroy/Documents/WebScrapingProjects/StockMarketData.csv\")\n",
    "print(df)    \n",
    "df.plot.line(x = \"Time\", y = dailyPrice, ylabel = \"Stock Price\" )"
   ]
  }
 ],
 "metadata": {
  "kernelspec": {
   "display_name": "Python 3",
   "language": "python",
   "name": "python3"
  }
 },
 "nbformat": 4,
 "nbformat_minor": 5
}
