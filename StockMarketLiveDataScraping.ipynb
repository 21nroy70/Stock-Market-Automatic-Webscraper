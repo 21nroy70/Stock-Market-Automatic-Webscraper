{
 "cells": [
  {
   "cell_type": "markdown",
   "id": "0169826a",
   "metadata": {},
   "source": [
    "## Using Yahoo Finance to find stock market data -> Apple Stock"
   ]
  },
  {
   "cell_type": "markdown",
   "id": "65562976",
   "metadata": {},
   "source": [
    "## The stock market runs from Monday - Friday, 9:30 A.M - 4 P.M."
   ]
  },
  {
   "cell_type": "code",
   "execution_count": 6,
   "id": "9578f557",
   "metadata": {},
   "outputs": [],
   "source": [
    "from bs4 import BeautifulSoup #this will be the core to importing and webscraping\n",
    "import requests\n",
    "import time\n",
    "import datetime\n",
    "from datetime import datetime\n",
    "from dateutil import rrule\n",
    "from dateutil.relativedelta import relativedelta\n",
    "import csv\n",
    "import pandas as pd # -> library to turn our data into a data frame\n",
    "\n",
    "import smtplib"
   ]
  },
  {
   "cell_type": "code",
   "execution_count": 7,
   "id": "46fc7912",
   "metadata": {},
   "outputs": [],
   "source": [
    "import datetime\n",
    "weekday = datetime.datetime.today().weekday()\n",
    "#print(weekday)"
   ]
  },
  {
   "cell_type": "code",
   "execution_count": 8,
   "id": "5bbf11a7",
   "metadata": {},
   "outputs": [],
   "source": [
    "dailyPrice = None\n",
    "change = None\n",
    "headers = [\"Stock Name\", \"Stock Price\", \"Net Change\", \"Time\"]\n",
    "data = None #list data type\n"
   ]
  },
  {
   "cell_type": "markdown",
   "id": "b8dccb2e",
   "metadata": {},
   "source": [
    "### Run once for the entirety of the dataset"
   ]
  },
  {
   "cell_type": "code",
   "execution_count": 3,
   "id": "16227ab2",
   "metadata": {},
   "outputs": [],
   "source": [
    "\n",
    "with open('StockMarketData.csv', 'a+', newline='', encoding='UTF8') as f:\n",
    "        writer = csv.writer(f)\n",
    "        writer.writerow(headers)"
   ]
  },
  {
   "cell_type": "code",
   "execution_count": 9,
   "id": "fbd3f941",
   "metadata": {},
   "outputs": [],
   "source": [
    "import time\n",
    "from datetime import datetime, timedelta\n",
    "\n",
    "currTime = datetime.now()\n",
    "\n",
    "timeSort = currTime.strftime(\"%H:%M:%S\")\n",
    "#print(type(timeSort))\n",
    "#print(currTime.hour)"
   ]
  },
  {
   "cell_type": "code",
   "execution_count": 10,
   "id": "068d9ffc",
   "metadata": {},
   "outputs": [],
   "source": [
    "def price_check():\n",
    "    url = 'https://finance.yahoo.com/quote/AAPL?p=AAPL'\n",
    "    header = {\"User-Agent\": \"Mozilla/5.0 (Macintosh; Intel Mac OS X 10_15_7) AppleWebKit/537.36 (KHTML, like Gecko) Chrome/100.0.4896.127 Safari/537.36\", \"Accept-Encoding\":\"gzip, deflate\", \"Accept\":\"text/html,application/xhtml+xml,application/xml;q=0.9,*/*;q=0.8\", \"DNT\":\"1\",\"Connection\":\"close\", \"Upgrade-Insecure-Requests\":\"1\"}\n",
    "\n",
    "    page = requests.get(url, headers = header)\n",
    "\n",
    "    soup1 = BeautifulSoup(page.content, \"html.parser\")\n",
    "    soup2 = BeautifulSoup(soup1.prettify(), \"html.parser\") #make this much Simpler and easier to parse\n",
    "    soup2.text.strip()\n",
    "    info = soup2.find('div',{'class': 'D(ib) Mend(20px)' })\n",
    "    dailyPrice = info.find('fin-streamer').text.strip()\n",
    "    print(\"Price of stock today: \" + dailyPrice)\n",
    "    #above, I have gathered the information about the Apple stock and scraped the price of the stock and changes \n",
    "    #  -> which will change daily because of the stock market changes\n",
    "    \n",
    "    change = info.find('span').text.strip() #finds the change of the price daily from yesterday's to today's prices\n",
    "    print(\"change in price: \" + change)\n",
    "    \n",
    "    currTime = datetime.now()\n",
    "    timeSort = currTime.strftime(\"%H:%M:%S\")\n",
    "    print(\"Time: \" + timeSort)\n",
    "\n",
    "    data = [\"AAPL\", dailyPrice, change, timeSort] \n",
    "    with open('StockMarketData.csv', 'a+', newline='', encoding='UTF8') as f:\n",
    "        writer = csv.writer(f)\n",
    "        writer.writerow(data) \n",
    "\n",
    "        "
   ]
  },
  {
   "cell_type": "markdown",
   "id": "57ad34b2",
   "metadata": {},
   "source": [
    "#####\n",
    "<div class=\"D(ib) Mend(20px)\">\n",
    "<fin-streamer active=\"\" class=\"Fw(b) Fz(36px) Mb(-4px) D(ib)\" data-field=\"regularMarketPrice\" data-pricehint=\"2\" data-symbol=\"AAPL\" data-test=\"qsp-price\" data-trend=\"none\" value=\"155.81\">\n",
    "                  155.81\n",
    "                 </fin-streamer>\n",
    "<fin-streamer active=\"\" class=\"Fw(500) Pstart(8px) Fz(24px)\" data-field=\"regularMarketChange\" data-pricehint=\"2\" data-symbol=\"AAPL\" data-test=\"qsp-price-change\" data-trend=\"txt\" value=\"-2.1500092\">\n",
    "<span class=\"C($negativeColor)\">\n",
    "                   -2.15\n",
    "                  </span>\n",
    "</fin-streamer>\n",
    "<fin-streamer active=\"\" class=\"Fw(500) Pstart(8px) Fz(24px)\" data-field=\"regularMarketChangePercent\" data-pricehint=\"2\" data-symbol=\"AAPL\" data-template=\"({fmt})\" data-trend=\"txt\" value=\"-0.013611097\">\n",
    "<span class=\"C($negativeColor)\">\n",
    "                   (-1.36%)\n",
    "                  </span>\n",
    "</fin-streamer>\n",
    "<fin-streamer active=\"true\" changeev=\"regularTimeChange\" class=\"D(n)\" data-field=\"regularMarketTime\" data-symbol=\"AAPL\" data-trend=\"none\" value=\"\">\n",
    "</fin-streamer>\n",
    "<fin-streamer active=\"true\" changeev=\"marketState\" class=\"D(n)\" data-field=\"marketState\" data-symbol=\"AAPL\" data-trend=\"none\" value=\"\">\n",
    "</fin-streamer>\n",
    "<div class=\"C($tertiaryColor) D(b) Fz(12px) Fw(n) Mstart(0)--mobpsm Mt(6px)--mobpsm Whs(n)\" id=\"quote-market-notice\">\n",
    "<span>\n",
    "                   At close:  04:00PM EDT\n",
    "                  </span>\n",
    "                  "
   ]
  },
  {
   "cell_type": "code",
   "execution_count": 8,
   "id": "917138a7",
   "metadata": {},
   "outputs": [],
   "source": [
    "\n",
    "while(currTime.hour >= 9.5 and currTime.hour < 16 and weekday <= 4): #only run 9:30 - 4 Mon. - Fri.\n",
    "    price_check()    \n",
    "    time.sleep(299) #will run after (299) seconds + 1 sec. of execution of above line -> 5 Minutes"
   ]
  },
  {
   "cell_type": "markdown",
   "id": "dfe1670b",
   "metadata": {},
   "source": [
    "### Producing graphs from data"
   ]
  },
  {
   "cell_type": "code",
   "execution_count": 11,
   "id": "ca4afb09",
   "metadata": {},
   "outputs": [
    {
     "name": "stdout",
     "output_type": "stream",
     "text": [
      "   Stock Name  Stock Price  Net Change      Time\n",
      "0        AAPL       154.80        0.27  09:30:12\n",
      "1        AAPL       155.31        0.78  09:35:12\n",
      "2        AAPL       155.72        1.19  09:40:12\n",
      "3        AAPL       155.55        1.02  09:45:12\n",
      "4        AAPL       155.64        1.11  09:50:12\n",
      "5        AAPL       155.36        0.83  09:55:13\n",
      "6        AAPL       155.29        0.76  10:00:13\n",
      "7        AAPL       155.38        0.85  10:05:13\n",
      "8        AAPL       155.06        0.53  10:10:13\n",
      "9        AAPL       154.53        0.00  10:15:14\n",
      "10       AAPL       154.95        0.42  10:20:14\n",
      "11       AAPL       154.62        0.09  10:25:14\n",
      "12       AAPL       154.57        0.04  10:30:14\n",
      "13       AAPL       154.59        0.06  10:35:14\n",
      "14       AAPL       154.26       -0.27  10:40:15\n",
      "15       AAPL       154.01       -0.52  10:45:15\n",
      "16       AAPL       154.14       -0.39  10:50:15\n",
      "17       AAPL       154.14       -0.39  10:55:15\n",
      "18       AAPL       154.12       -0.41  11:00:15\n",
      "19       AAPL       154.57        0.04  11:05:16\n",
      "20       AAPL       154.94        0.41  11:10:16\n",
      "21       AAPL       155.08        0.55  11:15:19\n",
      "22       AAPL       155.10        0.57  11:20:19\n",
      "23       AAPL       154.99        0.46  11:25:20\n",
      "24       AAPL       154.94        0.41  11:30:20\n",
      "25       AAPL       154.62        0.09  11:35:20\n",
      "26       AAPL       154.67        0.14  11:40:21\n",
      "27       AAPL       154.60        0.07  11:45:21\n",
      "28       AAPL       154.83        0.30  11:50:21\n",
      "29       AAPL       154.96        0.43  11:55:21\n",
      "30       AAPL       154.77        0.24  12:00:21\n",
      "31       AAPL       154.74        0.21  12:05:22\n",
      "32       AAPL       154.85        0.32  12:10:22\n"
     ]
    },
    {
     "data": {
      "text/plain": [
       "<AxesSubplot:xlabel='Time', ylabel='Stock Price'>"
      ]
     },
     "execution_count": 11,
     "metadata": {},
     "output_type": "execute_result"
    },
    {
     "data": {
      "image/png": "[encoded data removed]",
      "text/plain": [
       "<Figure size 432x288 with 1 Axes>"
      ]
     },
     "metadata": {
      "needs_background": "light"
     },
     "output_type": "display_data"
    }
   ],
   "source": [
    "df = pd.read_csv(\"/Users/nikhilroy/Documents/WebScrapingProjects/StockMarketData.csv\")\n",
    "print(df)    \n",
    "df.plot.line(x = \"Time\", y = dailyPrice, ylabel = \"Stock Price\" )"
   ]
  },
  {
   "cell_type": "markdown",
   "id": "4244b6ed",
   "metadata": {},
   "source": [
    "### Prints out Max, Min, Mean, and Median of prices from accumulated dataset"
   ]
  },
  {
   "cell_type": "code",
   "execution_count": 36,
   "id": "eeadb22c",
   "metadata": {},
   "outputs": [
    {
     "name": "stdout",
     "output_type": "stream",
     "text": [
      "Average Stock Price: $ 154.84\n",
      "Median Stock Price:  154.83\n",
      "Max Stock Price:  155.72\n",
      "Min Stock Price:  154.01\n"
     ]
    }
   ],
   "source": [
    "print(\"Average Stock Price: $\", round(df[\"Stock Price\"].mean(),2))\n",
    "print(\"Median Stock Price: \" , round(df[\"Stock Price\"].median(),2))\n",
    "print(\"Max Stock Price: \" , round(df[\"Stock Price\"].max(),2))\n",
    "print(\"Min Stock Price: \" , round(df[\"Stock Price\"].min(),2))"
   ]
  }
 ],
 "metadata": {
  "kernelspec": {
   "display_name": "Python 3",
   "language": "python",
   "name": "python3"
  },
  "language_info": {
   "codemirror_mode": {
    "name": "ipython",
    "version": 3
   },
   "file_extension": ".py",
   "mimetype": "text/x-python",
   "name": "python",
   "nbconvert_exporter": "python",
   "pygments_lexer": "ipython3",
   "version": "3.8.8"
  }
 },
 "nbformat": 4,
 "nbformat_minor": 5
}
